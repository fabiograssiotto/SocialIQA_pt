{
 "cells": [
  {
   "cell_type": "markdown",
   "metadata": {},
   "source": [
    "## This file implements code for exporting the portuguese dataset to JSONL format."
   ]
  },
  {
   "cell_type": "markdown",
   "metadata": {},
   "source": [
    "### Install libraries"
   ]
  },
  {
   "cell_type": "code",
   "execution_count": 2,
   "metadata": {},
   "outputs": [
    {
     "name": "stdout",
     "output_type": "stream",
     "text": [
      "Requirement already satisfied: pandas in c:\\users\\fabio.grassiotto\\research\\venv\\ml\\lib\\site-packages (2.2.0)\n",
      "Requirement already satisfied: numpy<2,>=1.23.2 in c:\\users\\fabio.grassiotto\\research\\venv\\ml\\lib\\site-packages (from pandas) (1.26.3)\n",
      "Requirement already satisfied: python-dateutil>=2.8.2 in c:\\users\\fabio.grassiotto\\research\\venv\\ml\\lib\\site-packages (from pandas) (2.8.2)\n",
      "Requirement already satisfied: pytz>=2020.1 in c:\\users\\fabio.grassiotto\\research\\venv\\ml\\lib\\site-packages (from pandas) (2024.1)\n",
      "Requirement already satisfied: tzdata>=2022.7 in c:\\users\\fabio.grassiotto\\research\\venv\\ml\\lib\\site-packages (from pandas) (2024.1)\n",
      "Requirement already satisfied: six>=1.5 in c:\\users\\fabio.grassiotto\\research\\venv\\ml\\lib\\site-packages (from python-dateutil>=2.8.2->pandas) (1.16.0)\n",
      "Note: you may need to restart the kernel to use updated packages.\n"
     ]
    }
   ],
   "source": [
    "%pip install pandas"
   ]
  },
  {
   "cell_type": "markdown",
   "metadata": {},
   "source": [
    "### Imports"
   ]
  },
  {
   "cell_type": "code",
   "execution_count": 4,
   "metadata": {},
   "outputs": [],
   "source": [
    "import json\n",
    "import pandas as pd"
   ]
  },
  {
   "cell_type": "markdown",
   "metadata": {},
   "source": [
    "### Read CSV files to dataframes and export to JSONL format"
   ]
  },
  {
   "cell_type": "code",
   "execution_count": 8,
   "metadata": {},
   "outputs": [],
   "source": [
    "dev_path = 'translated/final/dev.csv'\n",
    "train_path = 'translated/final/train.csv'\n",
    "tst_path = 'translated/final/tst.csv'\n",
    "\n",
    "dev_df = pd.read_csv(dev_path)\n",
    "train_df = pd.read_csv(train_path)\n",
    "tst_df = pd.read_csv(tst_path)\n",
    "\n",
    "dev_df = dev_df.drop(columns=['Unnamed: 0'])\n",
    "train_df = train_df.drop(columns=['Unnamed: 0'])\n",
    "tst_df = tst_df.drop(columns=['Unnamed: 0'])"
   ]
  },
  {
   "cell_type": "code",
   "execution_count": 12,
   "metadata": {},
   "outputs": [],
   "source": [
    "# Save to JSONL files\n",
    "dev_df.to_json('dataset_pt/socialIQa_v1.4_dev_pt.jsonl', orient='records', lines=True, force_ascii=False)\n",
    "train_df.to_json('dataset_pt/socialIQa_v1.4_trn_pt.jsonl', orient='records', lines=True, force_ascii=False)\n",
    "tst_df.to_json('dataset_pt/socialIQa_v1.4_tst_pt.jsonl', orient='records', lines=True, force_ascii=False)"
   ]
  }
 ],
 "metadata": {
  "kernelspec": {
   "display_name": "ml_proj",
   "language": "python",
   "name": "python3"
  },
  "language_info": {
   "codemirror_mode": {
    "name": "ipython",
    "version": 3
   },
   "file_extension": ".py",
   "mimetype": "text/x-python",
   "name": "python",
   "nbconvert_exporter": "python",
   "pygments_lexer": "ipython3",
   "version": "3.11.4"
  }
 },
 "nbformat": 4,
 "nbformat_minor": 2
}
