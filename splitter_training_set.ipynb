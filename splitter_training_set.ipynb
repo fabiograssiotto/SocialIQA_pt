{
 "cells": [
  {
   "cell_type": "markdown",
   "metadata": {},
   "source": [
    "## This file implements a splitter for the training set, to avoid hitting OpenAI rate limits."
   ]
  },
  {
   "cell_type": "markdown",
   "metadata": {},
   "source": [
    "### Install Libraries"
   ]
  },
  {
   "cell_type": "code",
   "execution_count": 1,
   "metadata": {},
   "outputs": [
    {
     "name": "stdout",
     "output_type": "stream",
     "text": [
      "Requirement already satisfied: pandas in /home/fabiogr/miniconda3/envs/ml_proj/lib/python3.12/site-packages (2.2.2)\n",
      "Requirement already satisfied: numpy>=1.26.0 in /home/fabiogr/miniconda3/envs/ml_proj/lib/python3.12/site-packages (from pandas) (1.26.4)\n",
      "Requirement already satisfied: python-dateutil>=2.8.2 in /home/fabiogr/miniconda3/envs/ml_proj/lib/python3.12/site-packages (from pandas) (2.9.0.post0)\n",
      "Requirement already satisfied: pytz>=2020.1 in /home/fabiogr/miniconda3/envs/ml_proj/lib/python3.12/site-packages (from pandas) (2024.1)\n",
      "Requirement already satisfied: tzdata>=2022.7 in /home/fabiogr/miniconda3/envs/ml_proj/lib/python3.12/site-packages (from pandas) (2024.1)\n",
      "Requirement already satisfied: six>=1.5 in /home/fabiogr/miniconda3/envs/ml_proj/lib/python3.12/site-packages (from python-dateutil>=2.8.2->pandas) (1.16.0)\n",
      "Note: you may need to restart the kernel to use updated packages.\n"
     ]
    }
   ],
   "source": [
    "%pip install pandas"
   ]
  },
  {
   "cell_type": "markdown",
   "metadata": {},
   "source": [
    "### Imports"
   ]
  },
  {
   "cell_type": "code",
   "execution_count": 2,
   "metadata": {},
   "outputs": [],
   "source": [
    "import os\n",
    "import pandas as pd"
   ]
  },
  {
   "cell_type": "markdown",
   "metadata": {},
   "source": [
    "### Read training dataset (EN)"
   ]
  },
  {
   "cell_type": "code",
   "execution_count": 3,
   "metadata": {},
   "outputs": [],
   "source": [
    "df_train = pd.read_csv('data/train.csv')\n",
    "df_train = df_train.drop(columns=['Unnamed: 0'])"
   ]
  },
  {
   "cell_type": "code",
   "execution_count": 4,
   "metadata": {},
   "outputs": [
    {
     "data": {
      "text/html": [
       "<div>\n",
       "<style scoped>\n",
       "    .dataframe tbody tr th:only-of-type {\n",
       "        vertical-align: middle;\n",
       "    }\n",
       "\n",
       "    .dataframe tbody tr th {\n",
       "        vertical-align: top;\n",
       "    }\n",
       "\n",
       "    .dataframe thead th {\n",
       "        text-align: right;\n",
       "    }\n",
       "</style>\n",
       "<table border=\"1\" class=\"dataframe\">\n",
       "  <thead>\n",
       "    <tr style=\"text-align: right;\">\n",
       "      <th></th>\n",
       "      <th>context</th>\n",
       "      <th>question</th>\n",
       "      <th>answerA</th>\n",
       "      <th>answerB</th>\n",
       "      <th>answerC</th>\n",
       "      <th>correct</th>\n",
       "    </tr>\n",
       "  </thead>\n",
       "  <tbody>\n",
       "    <tr>\n",
       "      <th>0</th>\n",
       "      <td>Even though she had homework to do that night,...</td>\n",
       "      <td>What will Jesse want to do next?</td>\n",
       "      <td>read homework to Skylar</td>\n",
       "      <td>help Skylar finish</td>\n",
       "      <td>skip her studying</td>\n",
       "      <td>B</td>\n",
       "    </tr>\n",
       "    <tr>\n",
       "      <th>1</th>\n",
       "      <td>After school, Casey met the friend at a bar so...</td>\n",
       "      <td>Why did Casey do this?</td>\n",
       "      <td>have a good idea of the material</td>\n",
       "      <td>goof around with a friend</td>\n",
       "      <td>have a few drinks and leave</td>\n",
       "      <td>A</td>\n",
       "    </tr>\n",
       "    <tr>\n",
       "      <th>2</th>\n",
       "      <td>Jesse went quickly to their mother and their m...</td>\n",
       "      <td>How would Jesse feel afterwards?</td>\n",
       "      <td>wasting their time</td>\n",
       "      <td>that they are a good child</td>\n",
       "      <td>that their mother always calls them</td>\n",
       "      <td>B</td>\n",
       "    </tr>\n",
       "    <tr>\n",
       "      <th>3</th>\n",
       "      <td>Robin knew that Kai really wanted her to the l...</td>\n",
       "      <td>Why did Robin do this?</td>\n",
       "      <td>paid her to say that she liked it</td>\n",
       "      <td>she never really liked Kai or her fashion</td>\n",
       "      <td>she knew Kai wanted Robin to like the outfit</td>\n",
       "      <td>C</td>\n",
       "    </tr>\n",
       "    <tr>\n",
       "      <th>4</th>\n",
       "      <td>Addison slept well last night after playing ba...</td>\n",
       "      <td>Why did Addison do this?</td>\n",
       "      <td>regain her energy</td>\n",
       "      <td>hit a home run</td>\n",
       "      <td>run the bases</td>\n",
       "      <td>A</td>\n",
       "    </tr>\n",
       "    <tr>\n",
       "      <th>...</th>\n",
       "      <td>...</td>\n",
       "      <td>...</td>\n",
       "      <td>...</td>\n",
       "      <td>...</td>\n",
       "      <td>...</td>\n",
       "      <td>...</td>\n",
       "    </tr>\n",
       "    <tr>\n",
       "      <th>33405</th>\n",
       "      <td>Quinn had a research paper due at midnight. Qu...</td>\n",
       "      <td>What will Quinn want to do next?</td>\n",
       "      <td>wait till the elast minute</td>\n",
       "      <td>start the project at midnight</td>\n",
       "      <td>try to finish their paper</td>\n",
       "      <td>C</td>\n",
       "    </tr>\n",
       "    <tr>\n",
       "      <th>33406</th>\n",
       "      <td>Ash made some new friends on the first day in ...</td>\n",
       "      <td>Why did Ash do this?</td>\n",
       "      <td>grab a coke with his new friends</td>\n",
       "      <td>do HW with his new friend</td>\n",
       "      <td>be sociable</td>\n",
       "      <td>C</td>\n",
       "    </tr>\n",
       "    <tr>\n",
       "      <th>33407</th>\n",
       "      <td>Carson decided to try online dating so he foun...</td>\n",
       "      <td>What does Carson need to do before this?</td>\n",
       "      <td>get married before this</td>\n",
       "      <td>decide to date before this</td>\n",
       "      <td>finish school before this</td>\n",
       "      <td>B</td>\n",
       "    </tr>\n",
       "    <tr>\n",
       "      <th>33408</th>\n",
       "      <td>Jesse put the turkey in the fridge for it to t...</td>\n",
       "      <td>How would Others feel as a result?</td>\n",
       "      <td>hungry</td>\n",
       "      <td>thirsty</td>\n",
       "      <td>anticipatory</td>\n",
       "      <td>C</td>\n",
       "    </tr>\n",
       "    <tr>\n",
       "      <th>33409</th>\n",
       "      <td>Robin jumped carelessly onto the bed, but brok...</td>\n",
       "      <td>How would you describe Robin?</td>\n",
       "      <td>thoughtful</td>\n",
       "      <td>clumsy</td>\n",
       "      <td>heart-broken</td>\n",
       "      <td>B</td>\n",
       "    </tr>\n",
       "  </tbody>\n",
       "</table>\n",
       "<p>33410 rows × 6 columns</p>\n",
       "</div>"
      ],
      "text/plain": [
       "                                                 context  \\\n",
       "0      Even though she had homework to do that night,...   \n",
       "1      After school, Casey met the friend at a bar so...   \n",
       "2      Jesse went quickly to their mother and their m...   \n",
       "3      Robin knew that Kai really wanted her to the l...   \n",
       "4      Addison slept well last night after playing ba...   \n",
       "...                                                  ...   \n",
       "33405  Quinn had a research paper due at midnight. Qu...   \n",
       "33406  Ash made some new friends on the first day in ...   \n",
       "33407  Carson decided to try online dating so he foun...   \n",
       "33408  Jesse put the turkey in the fridge for it to t...   \n",
       "33409  Robin jumped carelessly onto the bed, but brok...   \n",
       "\n",
       "                                       question  \\\n",
       "0              What will Jesse want to do next?   \n",
       "1                        Why did Casey do this?   \n",
       "2              How would Jesse feel afterwards?   \n",
       "3                        Why did Robin do this?   \n",
       "4                      Why did Addison do this?   \n",
       "...                                         ...   \n",
       "33405          What will Quinn want to do next?   \n",
       "33406                      Why did Ash do this?   \n",
       "33407  What does Carson need to do before this?   \n",
       "33408        How would Others feel as a result?   \n",
       "33409             How would you describe Robin?   \n",
       "\n",
       "                                 answerA  \\\n",
       "0                read homework to Skylar   \n",
       "1       have a good idea of the material   \n",
       "2                     wasting their time   \n",
       "3      paid her to say that she liked it   \n",
       "4                      regain her energy   \n",
       "...                                  ...   \n",
       "33405         wait till the elast minute   \n",
       "33406   grab a coke with his new friends   \n",
       "33407            get married before this   \n",
       "33408                             hungry   \n",
       "33409                         thoughtful   \n",
       "\n",
       "                                         answerB  \\\n",
       "0                             help Skylar finish   \n",
       "1                      goof around with a friend   \n",
       "2                     that they are a good child   \n",
       "3      she never really liked Kai or her fashion   \n",
       "4                                 hit a home run   \n",
       "...                                          ...   \n",
       "33405              start the project at midnight   \n",
       "33406                  do HW with his new friend   \n",
       "33407                 decide to date before this   \n",
       "33408                                    thirsty   \n",
       "33409                                     clumsy   \n",
       "\n",
       "                                            answerC correct  \n",
       "0                                 skip her studying       B  \n",
       "1                       have a few drinks and leave       A  \n",
       "2               that their mother always calls them       B  \n",
       "3      she knew Kai wanted Robin to like the outfit       C  \n",
       "4                                     run the bases       A  \n",
       "...                                             ...     ...  \n",
       "33405                     try to finish their paper       C  \n",
       "33406                                   be sociable       C  \n",
       "33407                     finish school before this       B  \n",
       "33408                                  anticipatory       C  \n",
       "33409                                  heart-broken       B  \n",
       "\n",
       "[33410 rows x 6 columns]"
      ]
     },
     "execution_count": 4,
     "metadata": {},
     "output_type": "execute_result"
    }
   ],
   "source": [
    "df_train"
   ]
  },
  {
   "cell_type": "markdown",
   "metadata": {},
   "source": [
    "### Split the source language training set in chunks of 5k rows"
   ]
  },
  {
   "cell_type": "code",
   "execution_count": 5,
   "metadata": {},
   "outputs": [],
   "source": [
    "def df_splitter(df):\n",
    "    chunk_size = 5000\n",
    "    chunks = []\n",
    "\n",
    "    for i in range(0, len(df), chunk_size):\n",
    "        chunk = df.iloc[i:i+chunk_size]\n",
    "        chunks.append(chunk)\n",
    "\n",
    "    # create new DataFrames for each chunk\n",
    "    df_chunks = [pd.DataFrame(chunk) for chunk in chunks]\n",
    "\n",
    "    # rename the DataFrames for clarity\n",
    "    for i, chunk in enumerate(df_chunks):\n",
    "        chunk.name = f\"df_chunk_{i+1}\"\n",
    "    \n",
    "    return df_chunks\n",
    "\n",
    "df_train_sets = df_splitter(df_train)"
   ]
  },
  {
   "cell_type": "code",
   "execution_count": 13,
   "metadata": {},
   "outputs": [
    {
     "name": "stdout",
     "output_type": "stream",
     "text": [
      "train set 1 split rows = 5000\n",
      "train set 2 split rows = 5000\n",
      "train set 3 split rows = 5000\n",
      "train set 4 split rows = 5000\n",
      "train set 5 split rows = 5000\n",
      "train set 6 split rows = 5000\n",
      "train set 7 split rows = 3410\n"
     ]
    }
   ],
   "source": [
    "i = 1\n",
    "for df in df_train_sets:\n",
    "    print(f\"train set {i} split rows = {len(df)}\")\n",
    "    # Save to filesystem\n",
    "    file_path = 'data/train_sets/train_' + str(i) + '.csv'\n",
    "    df.to_csv(file_path)\n",
    "    i = i + 1"
   ]
  },
  {
   "cell_type": "markdown",
   "metadata": {},
   "source": [
    "### Join the target language training sets and split"
   ]
  },
  {
   "cell_type": "code",
   "execution_count": 14,
   "metadata": {},
   "outputs": [],
   "source": [
    "df_train1_pt = pd.read_csv('translated/marian_mt/train_pt.csv')\n",
    "df_train2_pt = pd.read_csv('translated/unicamp_t5/train_pt.csv')\n",
    "df_train3_pt = pd.read_csv('translated/nllb_1.3b/train_pt.csv')\n",
    "\n",
    "# clean up data\n",
    "df_train1_pt = df_train1_pt.drop(columns=['Unnamed: 0.1', 'Unnamed: 0'])\n",
    "df_train2_pt = df_train2_pt.drop(columns=['Unnamed: 0.1', 'Unnamed: 0', 'correct'])\n",
    "df_train3_pt = df_train3_pt.drop(columns=['Unnamed: 0.1', 'Unnamed: 0', 'correct'])\n",
    "\n",
    "# Rename columns\n",
    "df_train1_pt = df_train1_pt.rename(columns={'context': 'context_1', 'question': 'question_1',\n",
    "                                  'answerA': 'answerA_1', 'answerB': 'answerB_1',\n",
    "                                  'answerC': 'answerC_1'})\n",
    "df_train2_pt = df_train2_pt.rename(columns={'context': 'context_2', 'question': 'question_2',\n",
    "                                  'answerA': 'answerA_2', 'answerB': 'answerB_2',\n",
    "                                  'answerC': 'answerC_2'})\n",
    "df_train3_pt = df_train3_pt.rename(columns={'context': 'context_3', 'question': 'question_3',\n",
    "                                  'answerA': 'answerA_3', 'answerB': 'answerB_3',\n",
    "                                  'answerC': 'answerC_3'})\n",
    "# Merge the three dataframes\n",
    "df_train_pt = pd.concat((df_train1_pt, df_train2_pt, df_train3_pt), axis=1)\n",
    "df_train_pt = df_train_pt[['context_1', 'context_2', 'context_3',\n",
    "                 'question_1', 'question_2', 'question_3',\n",
    "                 'answerA_1', 'answerA_2', 'answerA_3',\n",
    "                 'answerB_1', 'answerB_2', 'answerB_3',\n",
    "                 'answerC_1', 'answerC_2', 'answerC_3',\n",
    "                 'correct']]"
   ]
  },
  {
   "cell_type": "code",
   "execution_count": 15,
   "metadata": {},
   "outputs": [],
   "source": [
    "df_train_pt_sets = df_splitter(df_train_pt)"
   ]
  },
  {
   "cell_type": "code",
   "execution_count": 16,
   "metadata": {},
   "outputs": [
    {
     "name": "stdout",
     "output_type": "stream",
     "text": [
      "PT train set 1 split rows = 5000\n",
      "PT train set 2 split rows = 5000\n",
      "PT train set 3 split rows = 5000\n",
      "PT train set 4 split rows = 5000\n",
      "PT train set 5 split rows = 5000\n",
      "PT train set 6 split rows = 5000\n",
      "PT train set 7 split rows = 3410\n"
     ]
    }
   ],
   "source": [
    "i = 1\n",
    "for df in df_train_pt_sets:\n",
    "    print(f\"PT train set {i} split rows = {len(df)}\")\n",
    "    # Save to filesystem\n",
    "    file_path = 'translated/train_sets/train_pt_' + str(i) + '.csv'\n",
    "    df.to_csv(file_path)\n",
    "    i = i + 1"
   ]
  }
 ],
 "metadata": {
  "kernelspec": {
   "display_name": "ml_proj",
   "language": "python",
   "name": "python3"
  },
  "language_info": {
   "codemirror_mode": {
    "name": "ipython",
    "version": 3
   },
   "file_extension": ".py",
   "mimetype": "text/x-python",
   "name": "python",
   "nbconvert_exporter": "python",
   "pygments_lexer": "ipython3",
   "version": "3.12.2"
  }
 },
 "nbformat": 4,
 "nbformat_minor": 2
}
